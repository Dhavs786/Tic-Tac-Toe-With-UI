{
 "cells": [
  {
   "cell_type": "code",
   "execution_count": 1,
   "id": "0a34bede-3a81-4132-bc3d-8c3352fe7f2f",
   "metadata": {},
   "outputs": [],
   "source": [
    "import ipywidgets as widgets\n",
    "from IPython.display import display, clear_output\n",
    "import asyncio"
   ]
  },
  {
   "cell_type": "code",
   "execution_count": 3,
   "id": "aa0632ac-203c-4981-bfdc-57e7021f0137",
   "metadata": {},
   "outputs": [
    {
     "data": {
      "application/vnd.jupyter.widget-view+json": {
       "model_id": "b564e64f00cc43579f77ff88894a9755",
       "version_major": 2,
       "version_minor": 0
      },
      "text/plain": [
       "ToggleButtons(description='You play as:', options=('X', 'O'), value='X')"
      ]
     },
     "metadata": {},
     "output_type": "display_data"
    },
    {
     "data": {
      "application/vnd.jupyter.widget-view+json": {
       "model_id": "4dba0d46fa0b422db9bcea1dc3ece853",
       "version_major": 2,
       "version_minor": 0
      },
      "text/plain": [
       "GridBox(children=(Button(layout=Layout(height='60px', width='60px'), style=ButtonStyle()), Button(layout=Layou…"
      ]
     },
     "metadata": {},
     "output_type": "display_data"
    },
    {
     "data": {
      "application/vnd.jupyter.widget-view+json": {
       "model_id": "565fbfd687e84344b85b69bb6cdedc36",
       "version_major": 2,
       "version_minor": 0
      },
      "text/plain": [
       "Output()"
      ]
     },
     "metadata": {},
     "output_type": "display_data"
    },
    {
     "data": {
      "application/vnd.jupyter.widget-view+json": {
       "model_id": "d391cd37705346059cd5dde145ce8e23",
       "version_major": 2,
       "version_minor": 0
      },
      "text/plain": [
       "Button(button_style='info', description='Restart Game', style=ButtonStyle())"
      ]
     },
     "metadata": {},
     "output_type": "display_data"
    }
   ],
   "source": [
    "# Game variables\n",
    "board = [[''] * 3 for _ in range(3)]\n",
    "player = None\n",
    "ai = None\n",
    "game_over = False\n",
    "\n",
    "# Widgets\n",
    "buttons = [[widgets.Button(description='', layout=widgets.Layout(width='60px', height='60px', font_size='20px')) for _ in range(3)] for _ in range(3)]\n",
    "output = widgets.Output()\n",
    "restart_btn = widgets.Button(description='Restart Game', button_style='info')\n",
    "choice = widgets.ToggleButtons(options=['X', 'O'], description='You play as:')\n",
    "\n",
    "# Layout\n",
    "grid = widgets.GridBox(\n",
    "    children=[btn for row in buttons for btn in row],\n",
    "    layout=widgets.Layout(\n",
    "        grid_template_columns=\"repeat(3, 60px)\",\n",
    "        grid_gap='5px',\n",
    "        justify_content='center'\n",
    "    )\n",
    ")\n",
    "\n",
    "display(choice, grid, output, restart_btn)\n",
    "restart_btn.layout.display = 'none'"
   ]
  },
  {
   "cell_type": "code",
   "execution_count": 5,
   "id": "071d04d5-f262-4fb4-b687-94a37f1a84f7",
   "metadata": {},
   "outputs": [],
   "source": [
    "def check_winner(b):\n",
    "    for i in range(3):\n",
    "        if b[i][0] == b[i][1] == b[i][2] != '':\n",
    "            return b[i][0]\n",
    "        if b[0][i] == b[1][i] == b[2][i] != '':\n",
    "            return b[0][i]\n",
    "    if b[0][0] == b[1][1] == b[2][2] != '':\n",
    "        return b[0][0]\n",
    "    if b[0][2] == b[1][1] == b[2][0] != '':\n",
    "        return b[0][2]\n",
    "    if all(cell != '' for row in b for cell in row):\n",
    "        return 'Tie'\n",
    "    return None\n",
    "\n",
    "def minimax(b, is_ai):\n",
    "    winner = check_winner(b)\n",
    "    if winner == ai:\n",
    "        return 1\n",
    "    elif winner == player:\n",
    "        return -1\n",
    "    elif winner == 'Tie':\n",
    "        return 0\n",
    "    \n",
    "    if is_ai:\n",
    "        best = -float('inf')\n",
    "        for i in range(3):\n",
    "            for j in range(3):\n",
    "                if b[i][j] == '':\n",
    "                    b[i][j] = ai\n",
    "                    score = minimax(b, False)\n",
    "                    b[i][j] = ''\n",
    "                    best = max(best, score)\n",
    "        return best\n",
    "    else:\n",
    "        best = float('inf')\n",
    "        for i in range(3):\n",
    "            for j in range(3):\n",
    "                if b[i][j] == '':\n",
    "                    b[i][j] = player\n",
    "                    score = minimax(b, True)\n",
    "                    b[i][j] = ''\n",
    "                    best = min(best, score)\n",
    "        return best\n",
    "\n",
    "def ai_move():\n",
    "    best_score = -float('inf')\n",
    "    move = None\n",
    "    for i in range(3):\n",
    "        for j in range(3):\n",
    "            if board[i][j] == '':\n",
    "                board[i][j] = ai\n",
    "                score = minimax(board, False)\n",
    "                board[i][j] = ''\n",
    "                if score > best_score:\n",
    "                    best_score = score\n",
    "                    move = (i, j)\n",
    "    return move"
   ]
  },
  {
   "cell_type": "code",
   "execution_count": 7,
   "id": "291aafc1-d9df-4114-b778-dfd0cbd2441b",
   "metadata": {},
   "outputs": [],
   "source": [
    "def update_buttons():\n",
    "    for i in range(3):\n",
    "        for j in range(3):\n",
    "            buttons[i][j].description = board[i][j]\n",
    "            buttons[i][j].disabled = (board[i][j] != '' or game_over)\n",
    "\n",
    "def show_result(winner):\n",
    "    global game_over\n",
    "    game_over = True\n",
    "    update_buttons()\n",
    "    with output:\n",
    "        clear_output()\n",
    "        if winner == 'Tie':\n",
    "            print(\"It's a tie!\")\n",
    "        else:\n",
    "            print(f\"{winner} wins!\")\n",
    "    restart_btn.layout.display = 'inline-flex'"
   ]
  },
  {
   "cell_type": "code",
   "execution_count": 9,
   "id": "07f7c05c-14e6-4c71-89ab-8c25a75ea88e",
   "metadata": {},
   "outputs": [],
   "source": [
    "def on_click(i, j):\n",
    "    global game_over\n",
    "    if game_over or board[i][j] != '':\n",
    "        return\n",
    "\n",
    "    board[i][j] = player\n",
    "    update_buttons()\n",
    "\n",
    "    winner = check_winner(board)\n",
    "    if winner:\n",
    "        show_result(winner)\n",
    "        return\n",
    "\n",
    "    move = ai_move()\n",
    "    if move:\n",
    "        board[move[0]][move[1]] = ai\n",
    "        update_buttons()\n",
    "\n",
    "    winner = check_winner(board)\n",
    "    if winner:\n",
    "        show_result(winner)"
   ]
  },
  {
   "cell_type": "code",
   "execution_count": 11,
   "id": "56deb6e9-9c29-4f3f-b688-51420ff4d21f",
   "metadata": {},
   "outputs": [],
   "source": [
    "def start_game(change=None):\n",
    "    global board, player, ai, game_over\n",
    "    player = choice.value\n",
    "    ai = 'O' if player == 'X' else 'X'\n",
    "    board = [[''] * 3 for _ in range(3)]\n",
    "    game_over = False\n",
    "    restart_btn.layout.display = 'none'\n",
    "    with output:\n",
    "        clear_output()\n",
    "    update_buttons()\n",
    "    \n",
    "    if ai == 'X':\n",
    "        move = ai_move()\n",
    "        if move:\n",
    "            board[move[0]][move[1]] = ai\n",
    "            update_buttons()"
   ]
  },
  {
   "cell_type": "code",
   "execution_count": 13,
   "id": "60a5b521-3b97-4148-87e2-63a455cc95c1",
   "metadata": {},
   "outputs": [],
   "source": [
    "for i in range(3):\n",
    "    for j in range(3):\n",
    "        buttons[i][j].on_click(lambda btn, x=i, y=j: on_click(x, y))\n",
    "\n",
    "restart_btn.on_click(lambda b: start_game())\n",
    "choice.observe(start_game, names='value')\n",
    "\n",
    "start_game()"
   ]
  },
  {
   "cell_type": "code",
   "execution_count": null,
   "id": "af08b723-6d46-4dcf-b0bb-7e9f4a5be59a",
   "metadata": {},
   "outputs": [],
   "source": []
  },
  {
   "cell_type": "code",
   "execution_count": null,
   "id": "b7b98918-719b-476f-89ba-4330c30da0d9",
   "metadata": {},
   "outputs": [],
   "source": []
  }
 ],
 "metadata": {
  "kernelspec": {
   "display_name": "Python 3 (ipykernel)",
   "language": "python",
   "name": "python3"
  },
  "language_info": {
   "codemirror_mode": {
    "name": "ipython",
    "version": 3
   },
   "file_extension": ".py",
   "mimetype": "text/x-python",
   "name": "python",
   "nbconvert_exporter": "python",
   "pygments_lexer": "ipython3",
   "version": "3.12.4"
  }
 },
 "nbformat": 4,
 "nbformat_minor": 5
}
